{
  "nbformat": 4,
  "nbformat_minor": 0,
  "metadata": {
    "colab": {
      "name": "hw4-zz2776.ipynb",
      "provenance": []
    },
    "kernelspec": {
      "name": "python3",
      "display_name": "Python 3"
    }
  },
  "cells": [
    {
      "cell_type": "code",
      "metadata": {
        "id": "QE4h8r8XcpfA"
      },
      "source": [
        "import numpy as np\n",
        "import cvxpy as cp"
      ],
      "execution_count": null,
      "outputs": []
    },
    {
      "cell_type": "code",
      "metadata": {
        "id": "_xLD1wYfdEa5"
      },
      "source": [
        "# set the seed for the random number generator\n",
        "# DO NOT CHANGE THE SEED!\n",
        "np.random.seed(2) \n",
        "\n",
        "\n",
        "### Data for the pizza problem\n",
        "\n",
        "L = 20\n",
        "c = np.ceil(10*np.random.rand(L))\n",
        "n = 2 # This is only used in Problem 1 part (b)\n",
        "\n",
        "D = 25\n",
        "p = np.ceil(100*np.random.rand(D))\n",
        "# A location i is acceptable for dorm j is S[j,i] = 1\n",
        "S = np.random.randint(2,size=(D,L))"
      ],
      "execution_count": null,
      "outputs": []
    },
    {
      "cell_type": "code",
      "metadata": {
        "id": "yEsHKrNAdNoc",
        "outputId": "f9784986-2152-407b-bc53-0236825afa82",
        "colab": {
          "base_uri": "https://localhost:8080/",
          "height": 51
        }
      },
      "source": [
        "#1 a\n",
        "#x=1 means that we will open a restaurant at place i\n",
        "#the constraints mean that at every place, students can have at least one restaurant to go\n",
        "x = cp.Variable(L,boolean=True)\n",
        "\n",
        "obj = cp.Minimize(c*x)\n",
        "\n",
        "constraints = [\n",
        "    np.sum(S[0]*x)>=1,\n",
        "    np.sum(S[1]*x)>=1,\n",
        "    np.sum(S[2]*x)>=1,\n",
        "    np.sum(S[3]*x)>=1,\n",
        "    np.sum(S[4]*x)>=1,\n",
        "    np.sum(S[5]*x)>=1,\n",
        "    np.sum(S[6]*x)>=1,\n",
        "    np.sum(S[7]*x)>=1,\n",
        "    np.sum(S[8]*x)>=1,\n",
        "    np.sum(S[9]*x)>=1,\n",
        "    np.sum(S[10]*x)>=1,\n",
        "    np.sum(S[11]*x)>=1,\n",
        "    np.sum(S[12]*x)>=1,\n",
        "    np.sum(S[13]*x)>=1,\n",
        "    np.sum(S[14]*x)>=1,\n",
        "    np.sum(S[15]*x)>=1,\n",
        "    np.sum(S[16]*x)>=1,\n",
        "    np.sum(S[17]*x)>=1,\n",
        "    np.sum(S[18]*x)>=1,\n",
        "    np.sum(S[19]*x)>=1,\n",
        "    np.sum(S[20]*x)>=1,\n",
        "    np.sum(S[21]*x)>=1,\n",
        "    np.sum(S[22]*x)>=1,\n",
        "    np.sum(S[23]*x)>=1,\n",
        "    np.sum(S[24]*x)>=1\n",
        "]\n",
        "\n",
        "prob = cp.Problem(obj,constraints)\n",
        "\n",
        "prob.solve()\n",
        "if (prob.status == 'optimal'):\n",
        "    print('value = ' + str(prob.value))\n",
        "    print('x = ' + str(x.value))"
      ],
      "execution_count": null,
      "outputs": [
        {
          "output_type": "stream",
          "text": [
            "value = 7.0\n",
            "x = [0. 1. 0. 0. 0. 0. 0. 0. 0. 1. 0. 0. 0. 0. 1. 0. 0. 0. 0. 1.]\n"
          ],
          "name": "stdout"
        }
      ]
    },
    {
      "cell_type": "code",
      "metadata": {
        "id": "m2aK-h8fdyW9",
        "outputId": "241e3737-7d0d-461a-c0d3-b95f1e88a440",
        "colab": {
          "base_uri": "https://localhost:8080/",
          "height": 85
        }
      },
      "source": [
        "#1 b\n",
        "#y=1 means that we will keep the dorm, and the left side of the constraints mean that if people can go to the restaurant, the sum must >=1, else =0\n",
        "y = cp.Variable(D,boolean=True)\n",
        "\n",
        "obj = cp.Maximize(cp.sum(p*y))\n",
        "\n",
        "constraints = [\n",
        "    cp.sum(x)<=n,\n",
        "    cp.sum(S[0]*x)>=y[0],\n",
        "    cp.sum(S[1]*x)>=y[1],\n",
        "    cp.sum(S[2]*x)>=y[2],\n",
        "    cp.sum(S[3]*x)>=y[3],\n",
        "    cp.sum(S[4]*x)>=y[4],\n",
        "    cp.sum(S[5]*x)>=y[5],\n",
        "    cp.sum(S[6]*x)>=y[6],\n",
        "    cp.sum(S[7]*x)>=y[7],\n",
        "    cp.sum(S[8]*x)>=y[8],\n",
        "    cp.sum(S[9]*x)>=y[9],\n",
        "    cp.sum(S[10]*x)>=y[10],\n",
        "    cp.sum(S[11]*x)>=y[11],\n",
        "    cp.sum(S[12]*x)>=y[12],\n",
        "    cp.sum(S[13]*x)>=y[13],\n",
        "    cp.sum(S[14]*x)>=y[14],\n",
        "    cp.sum(S[15]*x)>=y[15],\n",
        "    cp.sum(S[16]*x)>=y[16],\n",
        "    cp.sum(S[17]*x)>=y[17],\n",
        "    cp.sum(S[18]*x)>=y[18],\n",
        "    cp.sum(S[19]*x)>=y[19],\n",
        "    cp.sum(S[20]*x)>=y[20],\n",
        "    cp.sum(S[21]*x)>=y[21],\n",
        "    cp.sum(S[22]*x)>=y[22],\n",
        "    cp.sum(S[23]*x)>=y[23],\n",
        "    cp.sum(S[24]*x)>=y[24]\n",
        "\n",
        "]\n",
        "prob = cp.Problem(obj,constraints)\n",
        "prob.solve(solver = cp.GLPK_MI)\n",
        "if (prob.status == 'optimal'):\n",
        "    print('value = ' + str(prob.value))\n",
        "    print('x = ' + str(x.value))\n",
        "    print('y = ' + str(y.value))\n"
      ],
      "execution_count": null,
      "outputs": [
        {
          "output_type": "stream",
          "text": [
            "value = 1039.0\n",
            "x = [0. 0. 0. 0. 0. 0. 0. 0. 0. 0. 0. 0. 0. 0. 0. 0. 1. 0. 1. 0.]\n",
            "y = [1. 1. 1. 1. 1. 1. 1. 1. 1. 1. 1. 1. 0. 1. 1. 1. 1. 1. 1. 1. 1. 1. 1. 1.\n",
            " 1.]\n"
          ],
          "name": "stdout"
        }
      ]
    },
    {
      "cell_type": "code",
      "metadata": {
        "id": "7b8SM7BqfNuX",
        "outputId": "f160d1e0-7ac8-4a51-9db2-c17c87a5a10b",
        "colab": {
          "base_uri": "https://localhost:8080/",
          "height": 68
        }
      },
      "source": [
        "## Data for Problem 2\n",
        "#x means that the portfolio we have at last\n",
        "#change means that if we change the portfolio of the stock, change=1,else change=0\n",
        "\n",
        "b = np.array([0.12,0.15,0.13,0.10,0.20,0.10,0.12,0.08])\n",
        "v = np.array([0.02,0.05,0.25,0.06,0.18,0.10,0.22,0.12])\n",
        "K = 3\n",
        "\n",
        "x = cp.Variable(8)\n",
        "change = cp.Variable(8,boolean=True)\n",
        "\n",
        "obj = cp.Minimize(cp.sum(cp.abs(x-v)))\n",
        "\n",
        "constraints = [\n",
        "    cp.sum(x)==1,\n",
        "    cp.sum(change)<=K,\n",
        "    x>=0,\n",
        "    change>=x-b,\n",
        "    change>=-(x-b)\n",
        "    \n",
        "]\n",
        "\n",
        "prob = cp.Problem(obj,constraints)\n",
        "\n",
        "prob.solve()\n",
        "if (prob.status == 'optimal'):\n",
        "    print('value = ' + str(prob.value))\n",
        "    print('x = ' + str(x.value))\n",
        "    print('change = ' + str(change.value))"
      ],
      "execution_count": null,
      "outputs": [
        {
          "output_type": "stream",
          "text": [
            "value = 0.28000000000000014\n",
            "x = [0.12 0.05 0.25 0.1  0.18 0.1  0.12 0.08]\n",
            "change = [0. 1. 1. 0. 1. 0. 0. 0.]\n"
          ],
          "name": "stdout"
        }
      ]
    },
    {
      "cell_type": "code",
      "metadata": {
        "id": "wTfmHxXbghYS",
        "outputId": "8e62082c-0b46-4243-d750-57e63cfa0dba",
        "colab": {
          "base_uri": "https://localhost:8080/",
          "height": 221
        }
      },
      "source": [
        "## Data for Problem 3\n",
        "\n",
        "# set the seed for the random number generator\n",
        "# DO NOT CHANGE THE SEED!\n",
        "np.random.seed(15) \n",
        "\n",
        "n = 10\n",
        "\n",
        "v = np.ceil(10*np.random.rand(n))\n",
        "b = np.ceil(10*(np.random.rand(n,n)-np.random.rand(n,n)))\n",
        "w = np.ceil(10*np.random.rand(n))\n",
        "W = np.ceil(0.75*sum(w))\n",
        "\n",
        "#the reason why we use z is that in cvxpy we can not use x*x, so we set a new variable and let z[i][j]=x[i]*x[j]\n",
        "#the reason we set q=b.diagonal() is that we can transform this QKP problem to another IP problem\n",
        "z = cp.Variable((n,n),boolean=True)\n",
        "q = b.diagonal()\n",
        "x = cp.Variable(n,boolean=True)\n",
        "\n",
        "obj = cp.Maximize(v@x+cp.sum(b*z)+cp.sum(q*x))\n",
        "\n",
        "constraints = [\n",
        "  w@x <= W, \n",
        "  #∑w[i]*z[i][j]<=(W-w[i])*x[j]\n",
        "  w*z[:,0:1]-w[0]*x[0]<=(W-w[0])*x[0],\n",
        "  w*z[:,1:2]-w[1]*x[1]<=(W-w[1])*x[1],\n",
        "  w*z[:,2:3]-w[2]*x[2]<=(W-w[2])*x[2],\n",
        "  w*z[:,3:4]-w[3]*x[3]<=(W-w[3])*x[3],                  \n",
        "  w*z[:,4:5]-w[4]*x[4]<=(W-w[4])*x[4],                                 \n",
        "  w*z[:,5:6]-w[5]*x[5]<=(W-w[5])*x[5],\n",
        "  w*z[:,6:7]-w[6]*x[6]<=(W-w[6])*x[6],\n",
        "  w*z[:,7:8]-w[7]*x[7]<=(W-w[7])*x[7],\n",
        "  w*z[:,8:9]-w[8]*x[8]<=(W-w[8])*x[8],\n",
        "  w*z[:,9:10]-w[9]*x[9]<=(W-w[9])*x[9],\n",
        "  #0<=z[i][j]<=x[j]<=1,i!=j\n",
        "  z[1:10,0:1]<=x[0],\n",
        "  z[0:1,1:2]<=x[1],z[2:10,1:2]<=x[1],\n",
        "  z[0:2,2:3]<=x[2],z[3:10,2:3]<=x[2],\n",
        "  z[0:3,3:4]<=x[3],z[4:10,3:4]<=x[3],\n",
        "  z[0:4,4:5]<=x[4],z[5:10,4:5]<=x[4],\n",
        "  z[0:5,5:6]<=x[5],z[6:10,5:6]<=x[5],\n",
        "  z[0:6,6:7]<=x[6],z[7:10,6:7]<=x[6],\n",
        "  z[0:7,7:8]<=x[7],z[8:10,7:8]<=x[7],\n",
        "  z[0:8,8:9]<=x[8],z[9:10,8:9]<=x[8],\n",
        "  z[0:9,9:10]<=x[9],\n",
        "  #z[0]==cp.transforms(z[:,0:1]) \n",
        "  #z[i][j]=z[j][i]\n",
        "  z[0][1]==z[1][0],z[0][2]==z[2][0],z[0][3]==z[3][0],z[0][4]==z[4][0],z[0][5]==z[5][0],z[0][6]==z[6][0],z[0][7]==z[7][0],z[0][8]==z[8][0],z[0][9]==z[9][0],\n",
        "  z[1][2]==z[2][1],z[1][3]==z[3][1],z[1][4]==z[4][1],z[1][5]==z[5][1],z[1][6]==z[6][1],z[1][7]==z[7][1],z[1][8]==z[8][1],z[1][9]==z[9][1],\n",
        "  z[2][3]==z[3][2],z[2][4]==z[4][2],z[2][5]==z[5][2],z[2][6]==z[6][2],z[2][7]==z[7][2],z[2][8]==z[8][2],z[2][9]==z[9][2],\n",
        "  z[3][4]==z[4][3],z[3][5]==z[5][3],z[3][6]==z[6][3],z[3][7]==z[7][3],z[3][8]==z[8][3],z[3][9]==z[9][3],\n",
        "  z[4][5]==z[5][4],z[4][6]==z[6][4],z[4][7]==z[7][4],z[4][8]==z[8][4],z[4][9]==z[9][4],\n",
        "  z[5][6]==z[6][5],z[5][7]==z[7][5],z[5][8]==z[8][5],z[5][9]==z[9][5],\n",
        "  z[6][7]==z[7][6],z[6][8]==z[8][6],z[6][9]==z[9][6], \n",
        "  z[7][8]==z[8][7],z[7][9]==z[9][7],   \n",
        "  z[8][9]==z[9][8],                                                                        \n",
        "               ]\n",
        "int_prob = cp.Problem(obj,constraints) \n",
        "int_prob.solve()\n",
        "\n",
        "if (int_prob.status == \"optimal\"):\n",
        "    print('int_prob = ' + str(int_prob.value))\n",
        "    print('x = ' + str(x.value))\n",
        "    print('z = ' + str(z.value))"
      ],
      "execution_count": null,
      "outputs": [
        {
          "output_type": "stream",
          "text": [
            "int_prob = 527.0\n",
            "x = [1. 1. 1. 1. 1. 1. 0. 1. 1. 0.]\n",
            "z = [[1. 0. 1. 1. 1. 1. 0. 1. 1. 0.]\n",
            " [0. 0. 0. 1. 0. 0. 0. 0. 1. 0.]\n",
            " [1. 0. 0. 1. 0. 1. 0. 0. 1. 0.]\n",
            " [1. 1. 1. 1. 1. 1. 0. 1. 1. 0.]\n",
            " [1. 0. 0. 1. 1. 1. 0. 1. 1. 0.]\n",
            " [1. 0. 1. 1. 1. 1. 0. 1. 1. 0.]\n",
            " [0. 0. 0. 0. 0. 0. 0. 0. 0. 0.]\n",
            " [1. 0. 0. 1. 1. 1. 0. 1. 1. 0.]\n",
            " [1. 1. 1. 1. 1. 1. 0. 1. 1. 0.]\n",
            " [0. 0. 0. 0. 0. 0. 0. 0. 0. 0.]]\n"
          ],
          "name": "stdout"
        }
      ]
    },
    {
      "cell_type": "code",
      "metadata": {
        "id": "ZuTdjU9pMKzZ",
        "outputId": "d84382ce-765c-46b0-ee28-a13809da1322",
        "colab": {
          "base_uri": "https://localhost:8080/"
        }
      },
      "source": [
        "## Data for Problem 3\n",
        "\n",
        "# set the seed for the random number generator\n",
        "# DO NOT CHANGE THE SEED!\n",
        "import numpy as np\n",
        "import cvxpy as cp\n",
        "\n",
        "np.random.seed(15) \n",
        "\n",
        "n = 10\n",
        "\n",
        "v = np.ceil(10*np.random.rand(n))\n",
        "b = np.ceil(10*(np.random.rand(n,n)-np.random.rand(n,n)))\n",
        "w = np.ceil(10*np.random.rand(n))\n",
        "W = np.ceil(0.75*sum(w))\n",
        "\n",
        "#the reason why we use z is that in cvxpy we can not use x*x, so we set a new variable and let z[i][j]=x[i]*x[j]\n",
        "#the reason we set q=b.diagonal() is that we can transform this QKP problem to another IP problem\n",
        "z = cp.Variable((n,n),boolean=True)\n",
        "q = b.diagonal()\n",
        "b=np.zeros((10,10))\n",
        "b[0][0]=q[0]\n",
        "b[1][1]=q[1]\n",
        "b[2][2]=q[2]\n",
        "b[3][3]=q[3]\n",
        "b[4][4]=q[4]\n",
        "b[5][5]=q[5]\n",
        "b[6][6]=q[6]\n",
        "b[7][7]=q[7]\n",
        "b[8][8]=q[8]\n",
        "b[9][9]=q[9]\n",
        "x = cp.Variable(n,boolean=True)\n",
        "\n",
        "#obj = cp.Maximize(v@x+q[0]*z[0][0]+q[1]*z[1][1]+q[2]*z[2][2]+q[3]*z[3][3]+q[4]*z[4][4]+q[5]*z[5][5]+q[6]*z[6][6]+q[7]*z[7][7]+q[8]*z[8][8]+q[9]*z[9][9])\n",
        "obj = cp.Maximize(v@x+cp.sum(b*z))\n",
        "\n",
        "constraints = [\n",
        "  w@x <= W, \n",
        "  #∑w[i]*z[i][j]<=(W-w[i])*x[j]\n",
        "  w*z[:,0:1]-w[0]*x[0]<=(W-w[0])*x[0],\n",
        "  w*z[:,1:2]-w[1]*x[1]<=(W-w[1])*x[1],\n",
        "  w*z[:,2:3]-w[2]*x[2]<=(W-w[2])*x[2],\n",
        "  w*z[:,3:4]-w[3]*x[3]<=(W-w[3])*x[3],                  \n",
        "  w*z[:,4:5]-w[4]*x[4]<=(W-w[4])*x[4],                                 \n",
        "  w*z[:,5:6]-w[5]*x[5]<=(W-w[5])*x[5],\n",
        "  w*z[:,6:7]-w[6]*x[6]<=(W-w[6])*x[6],\n",
        "  w*z[:,7:8]-w[7]*x[7]<=(W-w[7])*x[7],\n",
        "  w*z[:,8:9]-w[8]*x[8]<=(W-w[8])*x[8],\n",
        "  w*z[:,9:10]-w[9]*x[9]<=(W-w[9])*x[9],\n",
        "  #0<=z[i][j]<=x[j]<=1,i!=j\n",
        "  z[1:10,0:1]<=x[0],\n",
        "  z[0:1,1:2]<=x[1],z[2:10,1:2]<=x[1],\n",
        "  z[0:2,2:3]<=x[2],z[3:10,2:3]<=x[2],\n",
        "  z[0:3,3:4]<=x[3],z[4:10,3:4]<=x[3],\n",
        "  z[0:4,4:5]<=x[4],z[5:10,4:5]<=x[4],\n",
        "  z[0:5,5:6]<=x[5],z[6:10,5:6]<=x[5],\n",
        "  z[0:6,6:7]<=x[6],z[7:10,6:7]<=x[6],\n",
        "  z[0:7,7:8]<=x[7],z[8:10,7:8]<=x[7],\n",
        "  z[0:8,8:9]<=x[8],z[9:10,8:9]<=x[8],\n",
        "  z[0:9,9:10]<=x[9],\n",
        "  #z[0]==cp.transforms(z[:,0:1]) \n",
        "  #z[i][j]=z[j][i]\n",
        "  z[0][1]==z[1][0],z[0][2]==z[2][0],z[0][3]==z[3][0],z[0][4]==z[4][0],z[0][5]==z[5][0],z[0][6]==z[6][0],z[0][7]==z[7][0],z[0][8]==z[8][0],z[0][9]==z[9][0],\n",
        "  z[1][2]==z[2][1],z[1][3]==z[3][1],z[1][4]==z[4][1],z[1][5]==z[5][1],z[1][6]==z[6][1],z[1][7]==z[7][1],z[1][8]==z[8][1],z[1][9]==z[9][1],\n",
        "  z[2][3]==z[3][2],z[2][4]==z[4][2],z[2][5]==z[5][2],z[2][6]==z[6][2],z[2][7]==z[7][2],z[2][8]==z[8][2],z[2][9]==z[9][2],\n",
        "  z[3][4]==z[4][3],z[3][5]==z[5][3],z[3][6]==z[6][3],z[3][7]==z[7][3],z[3][8]==z[8][3],z[3][9]==z[9][3],\n",
        "  z[4][5]==z[5][4],z[4][6]==z[6][4],z[4][7]==z[7][4],z[4][8]==z[8][4],z[4][9]==z[9][4],\n",
        "  z[5][6]==z[6][5],z[5][7]==z[7][5],z[5][8]==z[8][5],z[5][9]==z[9][5],\n",
        "  z[6][7]==z[7][6],z[6][8]==z[8][6],z[6][9]==z[9][6], \n",
        "  z[7][8]==z[8][7],z[7][9]==z[9][7],   \n",
        "  z[8][9]==z[9][8],                                                                        \n",
        "               ]\n",
        "int_prob = cp.Problem(obj,constraints) \n",
        "int_prob.solve()\n",
        "\n",
        "if (int_prob.status == \"optimal\"):\n",
        "    print('int_prob = ' + str(int_prob.value))\n",
        "    print('x = ' + str(x.value))\n",
        "    print('z = ' + str(z.value))"
      ],
      "execution_count": null,
      "outputs": [
        {
          "output_type": "stream",
          "text": [
            "int_prob = 159.0\n",
            "x = [1. 1. 1. 1. 0. 1. 0. 1. 1. 1.]\n",
            "z = [[1. 1. 1. 1. 0. 1. 0. 1. 1. 1.]\n",
            " [1. 0. 0. 1. 0. 0. 0. 0. 1. 0.]\n",
            " [1. 0. 0. 1. 0. 0. 0. 0. 1. 0.]\n",
            " [1. 1. 1. 1. 0. 1. 0. 0. 1. 0.]\n",
            " [0. 0. 0. 0. 0. 0. 0. 0. 0. 0.]\n",
            " [1. 0. 0. 1. 0. 0. 0. 0. 1. 0.]\n",
            " [0. 0. 0. 0. 0. 0. 0. 0. 0. 0.]\n",
            " [1. 0. 0. 0. 0. 0. 0. 0. 1. 0.]\n",
            " [1. 1. 1. 1. 0. 1. 0. 1. 1. 1.]\n",
            " [1. 0. 0. 0. 0. 0. 0. 0. 1. 0.]]\n"
          ],
          "name": "stdout"
        }
      ]
    },
    {
      "cell_type": "code",
      "metadata": {
        "id": "lv3EaB-cQ1-u"
      },
      "source": [
        ""
      ],
      "execution_count": null,
      "outputs": []
    }
  ]
}